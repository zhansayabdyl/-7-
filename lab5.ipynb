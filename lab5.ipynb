{
 "cells": [
  {
   "cell_type": "markdown",
   "id": "49126ca9",
   "metadata": {},
   "source": [
    "# Лабораторная работа №5"
   ]
  },
  {
   "cell_type": "markdown",
   "id": "5e50d178",
   "metadata": {},
   "source": [
    "Провести классификацию найденного датасета, методами решающего дерева и случайного леса . В формате Markdown написать пояснения. Объяснить почему были выбраны именно такие гиперпараметры, была ли перекрестная проверка, и т.д."
   ]
  },
  {
   "cell_type": "markdown",
   "id": "83357fba",
   "metadata": {},
   "source": [
    "## метод решающего дерева"
   ]
  },
  {
   "cell_type": "markdown",
   "id": "7d673235",
   "metadata": {},
   "source": [
    "Гиперпараметры:\n",
    "\n",
    "- max_depth: Максимальная глубина дерева. .\n",
    "- min_samples_split: Минимальное количество выборок, необходимых для разделения внутреннего узла.\n",
    "- min_samples_leaf: Минимальное количество выборок, необходимых для существования листового узла."
   ]
  },
  {
   "cell_type": "code",
   "execution_count": 1,
   "id": "e926737c",
   "metadata": {},
   "outputs": [
    {
     "name": "stdout",
     "output_type": "stream",
     "text": [
      "Лучшие параметры для решающего дерева: {'max_depth': None, 'min_samples_leaf': 1, 'min_samples_split': 2}\n",
      "Точность решающего дерева на тестовом наборе: 0.6919736842105263\n",
      "\n",
      "Отчет по классификации:\n",
      "              precision    recall  f1-score   support\n",
      "\n",
      "           0       0.58      0.58      0.58      8282\n",
      "           1       0.76      0.76      0.76     14518\n",
      "\n",
      "    accuracy                           0.69     22800\n",
      "   macro avg       0.67      0.67      0.67     22800\n",
      "weighted avg       0.69      0.69      0.69     22800\n",
      "\n"
     ]
    }
   ],
   "source": [
    "import pandas as pd\n",
    "from sklearn.model_selection import train_test_split, GridSearchCV\n",
    "from sklearn.metrics import accuracy_score, classification_report\n",
    "from sklearn.tree import DecisionTreeClassifier\n",
    "from sklearn.ensemble import RandomForestClassifier\n",
    "from sklearn.preprocessing import StandardScaler, LabelEncoder\n",
    "from tqdm import tqdm\n",
    "\n",
    "# Загрузка датасета\n",
    "file_path = \"Spotify Tracks Genre.csv\"\n",
    "df = pd.read_csv(file_path)\n",
    "df.dropna(inplace=True)\n",
    "\n",
    "# Разделение на признаки (X) и целевую переменную (y)\n",
    "X = df[['popularity', 'duration_ms']]\n",
    "y = df['mode']\n",
    "\n",
    "# Разделение данных на тренировочный и тестовый наборы\n",
    "# random_state=42 - гарантирует, что данные каждый раз будут одинакого разбиваться\n",
    "X_train, X_test, y_train, y_test = train_test_split(X, y, test_size=0.2, random_state=42)\n",
    "\n",
    "# Масштабирование признаков (нормализация)\n",
    "scaler = StandardScaler()\n",
    "X_train_scaled = scaler.fit_transform(X_train)\n",
    "X_test_scaled = scaler.transform(X_test)\n",
    "\n",
    "param_grid_tree = {\n",
    "    'max_depth': [None, 5, 10, 15],\n",
    "    'min_samples_split': [2, 5, 10],\n",
    "    'min_samples_leaf': [1, 2, 4]\n",
    "}\n",
    "# Создание модели решающего дерева\n",
    "decision_tree = DecisionTreeClassifier()\n",
    "\n",
    "# Поиск лучших параметров для решающего дерева\n",
    "grid_search_tree = GridSearchCV(decision_tree, param_grid_tree, refit=True, verbose=0, cv=5)\n",
    "grid_search_tree.fit(X_train_scaled, y_train)\n",
    "\n",
    "# Лучшие параметры для решающего дерева\n",
    "best_params_tree = grid_search_tree.best_params_\n",
    "best_score_tree = grid_search_tree.best_score_\n",
    "\n",
    "best_tree = DecisionTreeClassifier(**best_params_tree)\n",
    "best_tree.fit(X_train_scaled, y_train)\n",
    "accuracy_tree = best_tree.score(X_test_scaled, y_test)\n",
    "print(\"Лучшие параметры для решающего дерева:\", best_params_tree)\n",
    "print(\"Точность решающего дерева на тестовом наборе:\", accuracy_tree)\n",
    "\n",
    "predictions = best_tree.predict(X_test_scaled)\n",
    "\n",
    "# Отчет по классификации\n",
    "print(\"\\nОтчет по классификации:\")\n",
    "print(classification_report(y_test, predictions))"
   ]
  },
  {
   "cell_type": "markdown",
   "id": "df6018b9",
   "metadata": {},
   "source": [
    "## метод случаного леса"
   ]
  },
  {
   "cell_type": "markdown",
   "id": "ca72de11",
   "metadata": {},
   "source": [
    "Гиперпараметры:\n",
    "\n",
    "- n_estimators: Количество деревьев в лесу. Большее количество деревьев может улучшить производительность, но с большими затратами на вычислительные ресурсы.\n",
    "- max_depth: Максимальная глубина каждого дерева в лесу. Это ограничивает глубину каждого дерева в лесу, что помогает управлять переобучением.\n",
    "- min_samples_split: Минимальное количество выборок, необходимых для разделения внутреннего узла дерева. Определяет, сколько выборок должно быть в узле, чтобы он был разделен.\n",
    "- min_samples_leaf: Минимальное количество выборок, необходимых для существования листового узла. Это определяет, сколько выборок должно быть на каждом листе дерева."
   ]
  },
  {
   "cell_type": "code",
   "execution_count": 2,
   "id": "4be625e5",
   "metadata": {},
   "outputs": [
    {
     "name": "stdout",
     "output_type": "stream",
     "text": [
      "Лучшие параметры для случайного леса: {'max_depth': None, 'min_samples_leaf': 1, 'min_samples_split': 2, 'n_estimators': 9}\n",
      "Точность случайного леса на тестовом наборе: 0.6826315789473684\n",
      "\n",
      "Отчет по классификации:\n",
      "              precision    recall  f1-score   support\n",
      "\n",
      "           0       0.57      0.55      0.56      8282\n",
      "           1       0.75      0.76      0.75     14518\n",
      "\n",
      "    accuracy                           0.68     22800\n",
      "   macro avg       0.66      0.65      0.65     22800\n",
      "weighted avg       0.68      0.68      0.68     22800\n",
      "\n"
     ]
    }
   ],
   "source": [
    "# Определение параметров для случайного леса\n",
    "# Указываем маленькие значения для ускорения обучения\n",
    "param_grid_forest = {\n",
    "    'n_estimators': range(2, 10),\n",
    "    'max_depth': [None, 5, 10, 15],\n",
    "    'min_samples_split': [2, 5],\n",
    "    'min_samples_leaf': [1, 2, 4]\n",
    "}\n",
    "# Создание модели случайного леса\n",
    "random_forest = RandomForestClassifier()\n",
    "\n",
    "# Поиск лучших параметров для случайного леса\n",
    "grid_search_forest = GridSearchCV(random_forest, param_grid_forest, refit=True, verbose=0, cv=5)\n",
    "grid_search_forest.fit(X_train_scaled, y_train)\n",
    "\n",
    "# Лучшие параметры для случайного леса\n",
    "best_params_forest = grid_search_forest.best_params_\n",
    "best_score_forest = grid_search_forest.best_score_\n",
    "best_forest = RandomForestClassifier(**best_params_forest)\n",
    "best_forest.fit(X_train_scaled, y_train)\n",
    "accuracy_forest = best_forest.score(X_test_scaled, y_test)\n",
    "print(\"Лучшие параметры для случайного леса:\", best_params_forest)\n",
    "print(\"Точность случайного леса на тестовом наборе:\", accuracy_forest)\n",
    "\n",
    "predictions = best_forest.predict(X_test_scaled)\n",
    "\n",
    "# Отчет по классификации\n",
    "print(\"\\nОтчет по классификации:\")\n",
    "print(classification_report(y_test, predictions))"
   ]
  },
  {
   "cell_type": "code",
   "execution_count": null,
   "id": "99bfe9cd",
   "metadata": {},
   "outputs": [],
   "source": []
  }
 ],
 "metadata": {
  "kernelspec": {
   "display_name": "Python 3",
   "language": "python",
   "name": "python3"
  },
  "language_info": {
   "codemirror_mode": {
    "name": "ipython",
    "version": 3
   },
   "file_extension": ".py",
   "mimetype": "text/x-python",
   "name": "python",
   "nbconvert_exporter": "python",
   "pygments_lexer": "ipython3",
   "version": "3.8.8"
  }
 },
 "nbformat": 4,
 "nbformat_minor": 5
}
