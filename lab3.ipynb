{
 "cells": [
  {
   "cell_type": "markdown",
   "id": "d3d66ab5",
   "metadata": {},
   "source": [
    "# Лабораторная работа №3"
   ]
  },
  {
   "cell_type": "markdown",
   "id": "e5b51417",
   "metadata": {},
   "source": [
    "Провести классификацию найденного датасета, методами линеной и логистической регрессий . В формате Markdown написать пояснения. Объяснить почему были выбраны именно такие гиперпараметры, была ли перекрестная проверка, и т.д."
   ]
  },
  {
   "cell_type": "markdown",
   "id": "1000c65a",
   "metadata": {},
   "source": [
    "Гиперпараметры:\n",
    "\n",
    "- C: обратная сила регуляризации. Меньшие значения C указывают на более сильную регуляризацию.\n",
    "- penalty: задает тип регуляризации (например, L1 или L2).\n",
    "- solver: алгоритм, используемый для оптимизации весов (например, 'liblinear', 'saga', 'lbfgs' и другие)."
   ]
  },
  {
   "cell_type": "code",
   "execution_count": 1,
   "id": "aec30368",
   "metadata": {},
   "outputs": [
    {
     "name": "stdout",
     "output_type": "stream",
     "text": [
      "Лучшие гиперпараметры логистической регрессии: {'C': 0.01, 'penalty': 'l2', 'solver': 'saga'}\n",
      "Точность модели логистической регрессии: 0.6364473684210527\n",
      "Точность модели линейной регрессии: 0.0018656019240179678\n",
      "\n",
      "Отчет по классификации:\n",
      "              precision    recall  f1-score   support\n",
      "\n",
      "           0       0.33      0.00      0.00      8282\n",
      "           1       0.64      1.00      0.78     14518\n",
      "\n",
      "    accuracy                           0.64     22800\n",
      "   macro avg       0.49      0.50      0.39     22800\n",
      "weighted avg       0.53      0.64      0.50     22800\n",
      "\n"
     ]
    }
   ],
   "source": [
    "from sklearn.model_selection import train_test_split, GridSearchCV\n",
    "from sklearn.linear_model import LogisticRegression\n",
    "from sklearn.linear_model import LinearRegression\n",
    "from sklearn.preprocessing import StandardScaler, LabelEncoder\n",
    "from sklearn.metrics import accuracy_score, classification_report\n",
    "import pandas as pd\n",
    "\n",
    "\n",
    "file_path = \"Spotify Tracks Genre.csv\"\n",
    "df = pd.read_csv(file_path)\n",
    "df.dropna(inplace=True)\n",
    "\n",
    "# Разделение на признаки (X) и целевую переменную (y)\n",
    "X = df[['popularity', 'duration_ms']]\n",
    "y = df['mode']\n",
    "# Разделение данных на тренировочный и тестовый наборы\n",
    "# random_state=42 - гарантирует, что данные каждый раз будут одинакого разбиваться\n",
    "X_train, X_test, y_train, y_test = train_test_split(X, y, test_size=0.2, random_state=42)\n",
    "\n",
    "# Масштабирование признаков (нормализация)\n",
    "scaler = StandardScaler()\n",
    "X_train_scaled = scaler.fit_transform(X_train)\n",
    "X_test_scaled = scaler.transform(X_test)\n",
    "linear_model = LinearRegression()\n",
    "linear_model.fit(X_train_scaled, y_train)\n",
    "linear_accuracy = linear_model.score(X_test_scaled, y_test)\n",
    "param_grid = {\n",
    "    'C': [0.01, 0.1, 1, 10],\n",
    "    'penalty': ['l2'],\n",
    "    'solver': ['liblinear', 'saga', 'lbfgs']\n",
    "}\n",
    "logistic = LogisticRegression(max_iter=1000)\n",
    "grid = GridSearchCV(logistic, param_grid, refit=True, verbose=0)\n",
    "grid.fit(X_train_scaled, y_train)\n",
    "# Оценка производительности модели логистической регрессии на тестовом наборе\n",
    "best_logistic = grid.best_estimator_\n",
    "logistic_accuracy = best_logistic.score(X_test_scaled, y_test)\n",
    "print(f\"Лучшие гиперпараметры логистической регрессии: {grid.best_params_}\")\n",
    "print(f\"Точность модели логистической регрессии: {logistic_accuracy}\")\n",
    "print(f\"Точность модели линейной регрессии: {linear_accuracy}\")\n",
    "\n",
    "# Предсказания на тестовой выборке с использованием лучшей модели\n",
    "predictions = best_logistic.predict(X_test_scaled)\n",
    "# Отчет по классификации\n",
    "print(\"\\nОтчет по классификации:\")\n",
    "print(classification_report(y_test, predictions))"
   ]
  },
  {
   "cell_type": "code",
   "execution_count": null,
   "id": "f57fce3c",
   "metadata": {},
   "outputs": [],
   "source": []
  }
 ],
 "metadata": {
  "kernelspec": {
   "display_name": "Python 3",
   "language": "python",
   "name": "python3"
  },
  "language_info": {
   "codemirror_mode": {
    "name": "ipython",
    "version": 3
   },
   "file_extension": ".py",
   "mimetype": "text/x-python",
   "name": "python",
   "nbconvert_exporter": "python",
   "pygments_lexer": "ipython3",
   "version": "3.8.8"
  }
 },
 "nbformat": 4,
 "nbformat_minor": 5
}
