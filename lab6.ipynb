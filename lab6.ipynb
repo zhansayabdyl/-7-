{
 "cells": [
  {
   "cell_type": "markdown",
   "id": "123fabd6",
   "metadata": {},
   "source": [
    "# Лабораторная работа №6"
   ]
  },
  {
   "cell_type": "markdown",
   "id": "6a1f0905",
   "metadata": {},
   "source": [
    "Провести классификацию найденного датасета, методами CatBoost . В формате Markdown написать пояснения. Объяснить почему были выбраны именно такие гиперпараметры, была ли перекрестная проверка, и т.д."
   ]
  },
  {
   "cell_type": "markdown",
   "id": "dd9e5d5e",
   "metadata": {},
   "source": [
    "Гиперпараметры:\n",
    "\n",
    "- depth: Этот параметр определяет глубину дерева.\n",
    "- learning_rate: Определяет скорость обучения модели.\n",
    "- l2_leaf_reg: Этот параметр отвечает за коэффициент регуляризации L2 (Ridge)."
   ]
  },
  {
   "cell_type": "markdown",
   "id": "00f240a2",
   "metadata": {},
   "source": [
    "устанавливаем модуль CatBoost:"
   ]
  },
  {
   "cell_type": "code",
   "execution_count": 2,
   "id": "31ac40e8",
   "metadata": {},
   "outputs": [
    {
     "name": "stdout",
     "output_type": "stream",
     "text": [
      "Collecting catboost\n",
      "  Downloading catboost-1.2.2-cp38-cp38-win_amd64.whl (101.1 MB)\n",
      "Requirement already satisfied: matplotlib in c:\\programdata\\anaconda3\\lib\\site-packages (from catboost) (3.3.4)\n",
      "Collecting graphviz\n",
      "  Downloading graphviz-0.20.1-py3-none-any.whl (47 kB)\n",
      "Requirement already satisfied: scipy in c:\\programdata\\anaconda3\\lib\\site-packages (from catboost) (1.6.2)\n",
      "Requirement already satisfied: plotly in c:\\programdata\\anaconda3\\lib\\site-packages (from catboost) (5.18.0)\n",
      "Requirement already satisfied: pandas>=0.24 in c:\\programdata\\anaconda3\\lib\\site-packages (from catboost) (1.2.4)\n",
      "Requirement already satisfied: numpy>=1.16.0 in c:\\programdata\\anaconda3\\lib\\site-packages (from catboost) (1.20.1)\n",
      "Requirement already satisfied: six in c:\\programdata\\anaconda3\\lib\\site-packages (from catboost) (1.15.0)\n",
      "Requirement already satisfied: python-dateutil>=2.7.3 in c:\\programdata\\anaconda3\\lib\\site-packages (from pandas>=0.24->catboost) (2.8.1)\n",
      "Requirement already satisfied: pytz>=2017.3 in c:\\programdata\\anaconda3\\lib\\site-packages (from pandas>=0.24->catboost) (2021.1)\n",
      "Requirement already satisfied: pillow>=6.2.0 in c:\\programdata\\anaconda3\\lib\\site-packages (from matplotlib->catboost) (8.2.0)\n",
      "Requirement already satisfied: pyparsing!=2.0.4,!=2.1.2,!=2.1.6,>=2.0.3 in c:\\programdata\\anaconda3\\lib\\site-packages (from matplotlib->catboost) (2.4.7)\n",
      "Requirement already satisfied: cycler>=0.10 in c:\\programdata\\anaconda3\\lib\\site-packages (from matplotlib->catboost) (0.10.0)\n",
      "Requirement already satisfied: kiwisolver>=1.0.1 in c:\\programdata\\anaconda3\\lib\\site-packages (from matplotlib->catboost) (1.3.1)\n",
      "Requirement already satisfied: packaging in c:\\programdata\\anaconda3\\lib\\site-packages (from plotly->catboost) (20.9)\n",
      "Requirement already satisfied: tenacity>=6.2.0 in c:\\programdata\\anaconda3\\lib\\site-packages (from plotly->catboost) (8.2.3)\n",
      "Installing collected packages: graphviz, catboost\n",
      "Successfully installed catboost-1.2.2 graphviz-0.20.1\n",
      "Note: you may need to restart the kernel to use updated packages.\n"
     ]
    }
   ],
   "source": [
    "pip install catboost"
   ]
  },
  {
   "cell_type": "code",
   "execution_count": 3,
   "id": "9b55bcad",
   "metadata": {},
   "outputs": [
    {
     "name": "stdout",
     "output_type": "stream",
     "text": [
      "Лучшие параметры для CatBoost: {'depth': 6, 'iterations': 200, 'l2_leaf_reg': 9, 'learning_rate': 1, 'loss_function': 'MultiClass'}\n",
      "Лучший результат (точность) для CatBoost: 0.641419500226434\n",
      "Точность на тестовом наборе данных: 0.6366666666666667\n",
      "\n",
      "Отчет по классификации:\n",
      "              precision    recall  f1-score   support\n",
      "\n",
      "           0       0.52      0.11      0.18      4177\n",
      "           1       0.65      0.94      0.77      7223\n",
      "\n",
      "    accuracy                           0.64     11400\n",
      "   macro avg       0.58      0.52      0.47     11400\n",
      "weighted avg       0.60      0.64      0.55     11400\n",
      "\n"
     ]
    }
   ],
   "source": [
    "import pandas as pd\n",
    "from sklearn.model_selection import train_test_split\n",
    "from sklearn.preprocessing import StandardScaler, LabelEncoder\n",
    "from catboost import CatBoostClassifier\n",
    "from sklearn.model_selection import GridSearchCV\n",
    "from sklearn.metrics import accuracy_score, classification_report\n",
    "from tqdm import tqdm\n",
    "\n",
    "# Загрузка датасета\n",
    "file_path = \"Spotify Tracks Genre.csv\"\n",
    "df = pd.read_csv(file_path)\n",
    "df.dropna(inplace=True)\n",
    "\n",
    "# Разделение на признаки (X) и целевую переменную (y)\n",
    "X = df[['popularity', 'duration_ms']]\n",
    "y = df['mode']\n",
    "\n",
    "# Разделение данных на тренировочный и тестовый наборы\n",
    "X_train, X_test, y_train, y_test = train_test_split(X, y, test_size=0.1, random_state=42)\n",
    "\n",
    "# Масштабирование признаков (нормализация)\n",
    "scaler = StandardScaler()\n",
    "X_train_scaled = scaler.fit_transform(X_train)\n",
    "X_test_scaled = scaler.transform(X_test)\n",
    "\n",
    "# Определение параметров для CatBoost\n",
    "param_grid_catboost = {\n",
    "    'depth': [1, 4, 7, 10],\n",
    "    'learning_rate': [0.01, 0.1, 1],\n",
    "    'l2_leaf_reg': [1, 3, 5, 9],\n",
    "    'iterations': [100, 200,],\n",
    "    'depth': [0, 3, 6],\n",
    "    'loss_function': ['MultiClass', 'Logloss']\n",
    "}\n",
    "\n",
    "# Создание модели CatBoost\n",
    "catboost = CatBoostClassifier(verbose=0)\n",
    "\n",
    "# Подбор оптимальных параметров с помощью перекрестной проверки для CatBoost\n",
    "grid_search_catboost = GridSearchCV(catboost, param_grid_catboost, refit=True, verbose=0, cv=5)\n",
    "grid_search_catboost.fit(X_train_scaled, y_train)\n",
    "\n",
    "# Получение лучших параметров для CatBoost\n",
    "best_params_catboost = grid_search_catboost.best_params_\n",
    "best_score_catboost = grid_search_catboost.best_score_\n",
    "test_score = grid_search_catboost.score(X_test_scaled, y_test)\n",
    "print(\"Лучшие параметры для CatBoost:\", best_params_catboost)\n",
    "print(\"Лучший результат (точность) для CatBoost:\", best_score_catboost)\n",
    "print(\"Точность на тестовом наборе данных:\", test_score)\n",
    "\n",
    "best_model = grid_search_catboost.best_estimator_\n",
    "predictions = best_model.predict(X_test_scaled)\n",
    "\n",
    "# Отчет по классификации\n",
    "print(\"\\nОтчет по классификации:\")\n",
    "print(classification_report(y_test, predictions))"
   ]
  },
  {
   "cell_type": "code",
   "execution_count": null,
   "id": "dbe035df",
   "metadata": {},
   "outputs": [],
   "source": []
  }
 ],
 "metadata": {
  "kernelspec": {
   "display_name": "Python 3",
   "language": "python",
   "name": "python3"
  },
  "language_info": {
   "codemirror_mode": {
    "name": "ipython",
    "version": 3
   },
   "file_extension": ".py",
   "mimetype": "text/x-python",
   "name": "python",
   "nbconvert_exporter": "python",
   "pygments_lexer": "ipython3",
   "version": "3.8.8"
  }
 },
 "nbformat": 4,
 "nbformat_minor": 5
}
